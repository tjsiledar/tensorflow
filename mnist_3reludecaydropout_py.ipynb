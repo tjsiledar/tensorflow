{
  "nbformat": 4,
  "nbformat_minor": 0,
  "metadata": {
    "colab": {
      "name": "mnist_3reludecaydropout.py",
      "version": "0.3.2",
      "provenance": [],
      "collapsed_sections": [],
      "include_colab_link": true
    },
    "kernelspec": {
      "name": "python3",
      "display_name": "Python 3"
    },
    "accelerator": "GPU"
  },
  "cells": [
    {
      "cell_type": "markdown",
      "metadata": {
        "id": "view-in-github",
        "colab_type": "text"
      },
      "source": [
        "<a href=\"https://colab.research.google.com/github/tjsiledar/tensorflow/blob/master/mnist_3reludecaydropout_py.ipynb\" target=\"_parent\"><img src=\"https://colab.research.google.com/assets/colab-badge.svg\" alt=\"Open In Colab\"/></a>"
      ]
    },
    {
      "cell_type": "code",
      "metadata": {
        "id": "GsHhrQddDf89",
        "colab_type": "code",
        "colab": {}
      },
      "source": [
        "import tensorflow as tf\n",
        "import math"
      ],
      "execution_count": 0,
      "outputs": []
    },
    {
      "cell_type": "code",
      "metadata": {
        "id": "daWPG9wGD9rr",
        "colab_type": "code",
        "colab": {}
      },
      "source": [
        "from tensorflow.examples.tutorials.mnist import input_data"
      ],
      "execution_count": 0,
      "outputs": []
    },
    {
      "cell_type": "code",
      "metadata": {
        "id": "7Po6hRgfEJ1W",
        "colab_type": "code",
        "colab": {
          "base_uri": "https://localhost:8080/",
          "height": 85
        },
        "outputId": "d15c7e45-4307-4580-ead1-df5cefc5186f"
      },
      "source": [
        "mnist = input_data.read_data_sets(\"MNIST_data/\", one_hot=True)"
      ],
      "execution_count": 59,
      "outputs": [
        {
          "output_type": "stream",
          "text": [
            "Extracting MNIST_data/train-images-idx3-ubyte.gz\n",
            "Extracting MNIST_data/train-labels-idx1-ubyte.gz\n",
            "Extracting MNIST_data/t10k-images-idx3-ubyte.gz\n",
            "Extracting MNIST_data/t10k-labels-idx1-ubyte.gz\n"
          ],
          "name": "stdout"
        }
      ]
    },
    {
      "cell_type": "code",
      "metadata": {
        "id": "Pta8soG-EVdZ",
        "colab_type": "code",
        "colab": {}
      },
      "source": [
        "X = tf.placeholder(tf.float32, shape=[None,784])"
      ],
      "execution_count": 0,
      "outputs": []
    },
    {
      "cell_type": "code",
      "metadata": {
        "id": "eGsXQgDaEsKs",
        "colab_type": "code",
        "colab": {}
      },
      "source": [
        "Y_ = tf.placeholder(tf.float32, shape=[None,10])"
      ],
      "execution_count": 0,
      "outputs": []
    },
    {
      "cell_type": "code",
      "metadata": {
        "id": "ev1hFOxNE0IZ",
        "colab_type": "code",
        "colab": {}
      },
      "source": [
        "L =200\n",
        "M = 100\n",
        "N=60\n",
        "O=30"
      ],
      "execution_count": 0,
      "outputs": []
    },
    {
      "cell_type": "code",
      "metadata": {
        "id": "G7NcZd7SE_6D",
        "colab_type": "code",
        "colab": {}
      },
      "source": [
        "W1 = tf.Variable(tf.truncated_normal([784,L], stddev=0.1))\n",
        "B1 = tf.Variable(tf.ones([L])/10)"
      ],
      "execution_count": 0,
      "outputs": []
    },
    {
      "cell_type": "code",
      "metadata": {
        "id": "mfbiSbfxF6_5",
        "colab_type": "code",
        "colab": {}
      },
      "source": [
        "W2 = tf.Variable(tf.truncated_normal([L,M], stddev=0.1))\n",
        "B2 = tf.Variable(tf.ones([M])/10)\n",
        "W3 = tf.Variable(tf.truncated_normal([M,N], stddev=0.1))\n",
        "B3 = tf.Variable(tf.ones([N])/10)\n",
        "W4 = tf.Variable(tf.truncated_normal([N,O], stddev=0.1))\n",
        "B4 = tf.Variable(tf.ones([O])/10)\n",
        "W5 = tf.Variable(tf.truncated_normal([O,10], stddev=0.1))\n",
        "B5 = tf.Variable(tf.ones([10])/10)"
      ],
      "execution_count": 0,
      "outputs": []
    },
    {
      "cell_type": "code",
      "metadata": {
        "id": "j16e0OjdKQDI",
        "colab_type": "code",
        "colab": {
          "base_uri": "https://localhost:8080/",
          "height": 88
        },
        "outputId": "ef5e81bc-a2f7-49ab-d4ba-3e2fd1307ded"
      },
      "source": [
        "pkeep = tf.placeholder(tf.float32)\n",
        "Y1 = tf.nn.relu(tf.matmul(X,W1)+B1)\n",
        "Y1d = tf.nn.dropout(Y1, pkeep)\n",
        "Y2 = tf.nn.relu(tf.matmul(Y1d,W2)+B2)\n",
        "Y2d = tf.nn.dropout(Y2, pkeep)\n",
        "Y3 = tf.nn.relu(tf.matmul(Y2d,W3)+B3)\n",
        "Y3d = tf.nn.dropout(Y3, pkeep)\n",
        "Y4 = tf.nn.relu(tf.matmul(Y3d,W4)+B4)\n",
        "Y4d = tf.nn.dropout(Y4, pkeep)\n",
        "Ylogits = tf.matmul(Y4d,W5)+B5\n",
        "Y = tf.nn.softmax(Ylogits)"
      ],
      "execution_count": 176,
      "outputs": [
        {
          "output_type": "stream",
          "text": [
            "WARNING:tensorflow:From <ipython-input-176-b76a44113297>:3: calling dropout (from tensorflow.python.ops.nn_ops) with keep_prob is deprecated and will be removed in a future version.\n",
            "Instructions for updating:\n",
            "Please use `rate` instead of `keep_prob`. Rate should be set to `rate = 1 - keep_prob`.\n"
          ],
          "name": "stdout"
        }
      ]
    },
    {
      "cell_type": "code",
      "metadata": {
        "id": "dvSLysK_K6f2",
        "colab_type": "code",
        "colab": {}
      },
      "source": [
        "cross_entropy = tf.nn.softmax_cross_entropy_with_logits(logits=Ylogits, labels=Y_)\n",
        "cross_entropy = tf.reduce_mean(cross_entropy)*1000"
      ],
      "execution_count": 0,
      "outputs": []
    },
    {
      "cell_type": "code",
      "metadata": {
        "id": "O_yML_VtLPTk",
        "colab_type": "code",
        "colab": {}
      },
      "source": [
        "correct_prediction = tf.equal(tf.argmax(Y,1),tf.argmax(Y_,1))"
      ],
      "execution_count": 0,
      "outputs": []
    },
    {
      "cell_type": "code",
      "metadata": {
        "id": "CdiQ_g8SLSUK",
        "colab_type": "code",
        "colab": {}
      },
      "source": [
        "accuracy = tf.reduce_mean(tf.cast(correct_prediction,tf.float32))"
      ],
      "execution_count": 0,
      "outputs": []
    },
    {
      "cell_type": "code",
      "metadata": {
        "id": "UHm398mDLUvz",
        "colab_type": "code",
        "colab": {}
      },
      "source": [
        "step = tf.Variable(0, trainable=False)\n",
        "rate = 0.0001 + tf.train.exponential_decay(0.003,step,2000,1/math.e)\n",
        "train_step = tf.train.AdamOptimizer(rate).minimize(cross_entropy, global_step=step)"
      ],
      "execution_count": 0,
      "outputs": []
    },
    {
      "cell_type": "code",
      "metadata": {
        "id": "LYDbI8RVLZBU",
        "colab_type": "code",
        "colab": {
          "base_uri": "https://localhost:8080/",
          "height": 71
        },
        "outputId": "928242d5-67ea-4351-8835-4d1d89a2a3d7"
      },
      "source": [
        "sess = tf.InteractiveSession()"
      ],
      "execution_count": 181,
      "outputs": [
        {
          "output_type": "stream",
          "text": [
            "/usr/local/lib/python3.6/dist-packages/tensorflow/python/client/session.py:1702: UserWarning: An interactive session is already active. This can cause out-of-memory errors in some cases. You must explicitly call `InteractiveSession.close()` to release resources held by the other session(s).\n",
            "  warnings.warn('An interactive session is already active. This can '\n"
          ],
          "name": "stderr"
        }
      ]
    },
    {
      "cell_type": "code",
      "metadata": {
        "id": "W1qbG3U1Lb8u",
        "colab_type": "code",
        "colab": {}
      },
      "source": [
        "tf.global_variables_initializer().run()"
      ],
      "execution_count": 0,
      "outputs": []
    },
    {
      "cell_type": "code",
      "metadata": {
        "id": "dPJxxMU6Ld1F",
        "colab_type": "code",
        "colab": {}
      },
      "source": [
        "for _ in range(10000):\n",
        "  batch_xs, batch_ys = mnist.train.next_batch(100)\n",
        "  sess.run(train_step, feed_dict = {X : batch_xs, Y_ : batch_ys, pkeep : 0.75})"
      ],
      "execution_count": 0,
      "outputs": []
    },
    {
      "cell_type": "code",
      "metadata": {
        "id": "4fTkYqG2Lif8",
        "colab_type": "code",
        "colab": {
          "base_uri": "https://localhost:8080/",
          "height": 34
        },
        "outputId": "277c7753-de0f-404a-f462-852bcb1d55d7"
      },
      "source": [
        "sess.run(accuracy, feed_dict = {X : mnist.test.images, Y_ : mnist.test.labels, pkeep : 1})\n"
      ],
      "execution_count": 187,
      "outputs": [
        {
          "output_type": "execute_result",
          "data": {
            "text/plain": [
              "0.9806"
            ]
          },
          "metadata": {
            "tags": []
          },
          "execution_count": 187
        }
      ]
    },
    {
      "cell_type": "code",
      "metadata": {
        "id": "s4V_H4elLmOh",
        "colab_type": "code",
        "colab": {
          "base_uri": "https://localhost:8080/",
          "height": 34
        },
        "outputId": "737a6de5-9eba-497a-ad41-470bf1a2dea7"
      },
      "source": [
        "  sess.run(accuracy, feed_dict = {X : mnist.train.images, Y_ : mnist.train.labels, pkeep : 1})"
      ],
      "execution_count": 188,
      "outputs": [
        {
          "output_type": "execute_result",
          "data": {
            "text/plain": [
              "0.9951636"
            ]
          },
          "metadata": {
            "tags": []
          },
          "execution_count": 188
        }
      ]
    },
    {
      "cell_type": "code",
      "metadata": {
        "id": "rzFg9wqqebJT",
        "colab_type": "code",
        "colab": {}
      },
      "source": [
        ""
      ],
      "execution_count": 0,
      "outputs": []
    }
  ]
}